{
 "cells": [
  {
   "cell_type": "code",
   "execution_count": 1,
   "metadata": {},
   "outputs": [],
   "source": [
    "import raveforce\n",
    "import matplotlib.pyplot as plt\n",
    "import time\n",
    "%matplotlib inline"
   ]
  },
  {
   "cell_type": "code",
   "execution_count": 2,
   "metadata": {},
   "outputs": [],
   "source": [
    "env = raveforce.make(\"continuous\", 1)"
   ]
  },
  {
   "cell_type": "code",
   "execution_count": 3,
   "metadata": {
    "scrolled": true
   },
   "outputs": [
    {
     "name": "stdout",
     "output_type": "stream",
     "text": [
      "22080\n",
      "elapsed: 0.12340688705444336\n"
     ]
    }
   ],
   "source": [
    "start = time.time()\n",
    "observation = env.reset()\n",
    "print(env.total_length)\n",
    "end = time.time()\n",
    "print(\"elapsed:\", end - start)"
   ]
  },
  {
   "cell_type": "code",
   "execution_count": 4,
   "metadata": {
    "scrolled": true
   },
   "outputs": [
    {
     "name": "stdout",
     "output_type": "stream",
     "text": [
      "[0.38624537]\n",
      "|reward: -1382.68351 | done: True | step: 1\n",
      "elapsed: 0.7078750133514404\n"
     ]
    },
    {
     "data": {
      "image/png": "[encoded data removed]",
      "text/plain": [
       "<matplotlib.figure.Figure at 0x1111ea588>"
      ]
     },
     "metadata": {
      "needs_background": "light"
     },
     "output_type": "display_data"
    }
   ],
   "source": [
    "start = time.time()\n",
    "env.reset()\n",
    "action = env.action_space.sample()\n",
    "observation, reward, done, info = env.step(action)\n",
    "print(action)\n",
    "print(\"|reward:\", round(reward, 5), \"| done:\", done, \"| step:\", info[\"current_step\"])\n",
    "plt.plot(observation)\n",
    "end = time.time()\n",
    "print(\"elapsed:\", end - start)"
   ]
  },
  {
   "cell_type": "code",
   "execution_count": null,
   "metadata": {},
   "outputs": [],
   "source": [
    "reward_list = []\n",
    "for i in range(1000):\n",
    "    action = i/1000\n",
    "    env.reset()\n",
    "    _, reward, _, _ = env.step(action)\n",
    "    reward_list.append(reward)"
   ]
  },
  {
   "cell_type": "code",
   "execution_count": null,
   "metadata": {},
   "outputs": [],
   "source": [
    "plt.plot(reward_list)"
   ]
  },
  {
   "cell_type": "code",
   "execution_count": null,
   "metadata": {},
   "outputs": [],
   "source": [
    "start = time.time()\n",
    "for _ in range(16):\n",
    "    action = env.action_space.sample()\n",
    "    print(\"action:\", action, end=' ')\n",
    "    observation, reward, done, info = env.step(action)\n",
    "    print(\"|reward:\", round(reward, 5), \"| done:\", done, \"| step:\", info[\"current_step\"])\n",
    "end = time.time()\n",
    "print(\"elapsed:\", end - start)\n",
    "plt.plot(observation)"
   ]
  },
  {
   "cell_type": "code",
   "execution_count": null,
   "metadata": {
    "scrolled": true
   },
   "outputs": [],
   "source": [
    "for action in [4, 0, 3, 0, 5, 0, 3, 0, 4, 0, 3, 0, 5, 0, 3, 0]:\n",
    "    observation, reward, done, info = env.step(action)\n",
    "    print(\"|reward:\", round(reward, 5), \"| done:\", done, \"| step:\", info[\"current_step\"])\n",
    "plt.plot(observation)"
   ]
  },
  {
   "cell_type": "code",
   "execution_count": null,
   "metadata": {},
   "outputs": [],
   "source": [
    "o = env.reset()"
   ]
  },
  {
   "cell_type": "code",
   "execution_count": null,
   "metadata": {},
   "outputs": [],
   "source": [
    "observation, reward, done, info = env.step(0)\n",
    "print(\"|reward:\", round(reward, 5), \"| done:\", done, \"| step:\", info[\"current_step\"])\n",
    "plt.plot(observation)"
   ]
  },
  {
   "cell_type": "code",
   "execution_count": null,
   "metadata": {},
   "outputs": [],
   "source": [
    "plt.plot(info[\"relevant_target\"])"
   ]
  },
  {
   "cell_type": "code",
   "execution_count": null,
   "metadata": {},
   "outputs": [],
   "source": [
    "env.render()"
   ]
  }
 ],
 "metadata": {
  "kernelspec": {
   "display_name": "Python 3",
   "language": "python",
   "name": "python3"
  },
  "language_info": {
   "codemirror_mode": {
    "name": "ipython",
    "version": 3
   },
   "file_extension": ".py",
   "mimetype": "text/x-python",
   "name": "python",
   "nbconvert_exporter": "python",
   "pygments_lexer": "ipython3",
   "version": "3.6.3"
  }
 },
 "nbformat": 4,
 "nbformat_minor": 2
}
